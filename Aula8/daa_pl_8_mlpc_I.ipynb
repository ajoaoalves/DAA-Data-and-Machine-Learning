{
 "cells": [
  {
   "cell_type": "markdown",
   "metadata": {},
   "source": [
    "# Dados e Aprendizagem Automática\n",
    "### Part VIII"
   ]
  },
  {
   "cell_type": "markdown",
   "metadata": {},
   "source": [
    "## **Multi Layer Percepreton using Titanic Dataset - I**"
   ]
  },
  {
   "cell_type": "markdown",
   "metadata": {},
   "source": [
    "#### Imports, installations and settings"
   ]
  },
  {
   "cell_type": "markdown",
   "metadata": {},
   "source": [
    "Install Pytorch: https://pytorch.org/get-started/locally/"
   ]
  },
  {
   "cell_type": "code",
   "execution_count": 131,
   "metadata": {},
   "outputs": [],
   "source": [
    "import sklearn as skl\n",
    "import pandas as pd\n",
    "import numpy as np\n",
    "import matplotlib.pyplot as plt\n",
    "import seaborn as sns\n",
    "import torch\n",
    "\n",
    "%matplotlib inline\n",
    "\n",
    "device = torch.device(\"cpu\") #torch.device(\"cuda\" if torch.cuda.is_available() else \"cpu\")"
   ]
  },
  {
   "cell_type": "code",
   "execution_count": 132,
   "metadata": {},
   "outputs": [
    {
     "name": "stdout",
     "output_type": "stream",
     "text": [
      "2.5.1\n"
     ]
    }
   ],
   "source": [
    "print(torch.__version__)"
   ]
  },
  {
   "attachments": {},
   "cell_type": "markdown",
   "metadata": {},
   "source": [
    "#### FE and EDA on Titanic Dataset"
   ]
  },
  {
   "cell_type": "markdown",
   "metadata": {},
   "source": [
    "Load the CSV - *Titanic*"
   ]
  },
  {
   "cell_type": "code",
   "execution_count": 133,
   "metadata": {},
   "outputs": [],
   "source": [
    "df = pd.read_csv(\"titanic.csv\")"
   ]
  },
  {
   "cell_type": "markdown",
   "metadata": {},
   "source": [
    "Inspect data"
   ]
  },
  {
   "cell_type": "code",
   "execution_count": 134,
   "metadata": {},
   "outputs": [
    {
     "data": {
      "text/html": [
       "<div>\n",
       "<style scoped>\n",
       "    .dataframe tbody tr th:only-of-type {\n",
       "        vertical-align: middle;\n",
       "    }\n",
       "\n",
       "    .dataframe tbody tr th {\n",
       "        vertical-align: top;\n",
       "    }\n",
       "\n",
       "    .dataframe thead th {\n",
       "        text-align: right;\n",
       "    }\n",
       "</style>\n",
       "<table border=\"1\" class=\"dataframe\">\n",
       "  <thead>\n",
       "    <tr style=\"text-align: right;\">\n",
       "      <th></th>\n",
       "      <th>PassengerId</th>\n",
       "      <th>Survived</th>\n",
       "      <th>Pclass</th>\n",
       "      <th>Name</th>\n",
       "      <th>Sex</th>\n",
       "      <th>Age</th>\n",
       "      <th>SibSp</th>\n",
       "      <th>Parch</th>\n",
       "      <th>Ticket</th>\n",
       "      <th>Fare</th>\n",
       "      <th>Cabin</th>\n",
       "      <th>Embarked</th>\n",
       "    </tr>\n",
       "  </thead>\n",
       "  <tbody>\n",
       "    <tr>\n",
       "      <th>0</th>\n",
       "      <td>1</td>\n",
       "      <td>0</td>\n",
       "      <td>3</td>\n",
       "      <td>Braund, Mr. Owen Harris</td>\n",
       "      <td>male</td>\n",
       "      <td>22.0</td>\n",
       "      <td>1</td>\n",
       "      <td>0</td>\n",
       "      <td>A/5 21171</td>\n",
       "      <td>7.2500</td>\n",
       "      <td>NaN</td>\n",
       "      <td>S</td>\n",
       "    </tr>\n",
       "    <tr>\n",
       "      <th>1</th>\n",
       "      <td>2</td>\n",
       "      <td>1</td>\n",
       "      <td>1</td>\n",
       "      <td>Cumings, Mrs. John Bradley (Florence Briggs Th...</td>\n",
       "      <td>female</td>\n",
       "      <td>38.0</td>\n",
       "      <td>1</td>\n",
       "      <td>0</td>\n",
       "      <td>PC 17599</td>\n",
       "      <td>71.2833</td>\n",
       "      <td>C85</td>\n",
       "      <td>C</td>\n",
       "    </tr>\n",
       "    <tr>\n",
       "      <th>2</th>\n",
       "      <td>3</td>\n",
       "      <td>1</td>\n",
       "      <td>3</td>\n",
       "      <td>Heikkinen, Miss. Laina</td>\n",
       "      <td>female</td>\n",
       "      <td>26.0</td>\n",
       "      <td>0</td>\n",
       "      <td>0</td>\n",
       "      <td>STON/O2. 3101282</td>\n",
       "      <td>7.9250</td>\n",
       "      <td>NaN</td>\n",
       "      <td>S</td>\n",
       "    </tr>\n",
       "    <tr>\n",
       "      <th>3</th>\n",
       "      <td>4</td>\n",
       "      <td>1</td>\n",
       "      <td>1</td>\n",
       "      <td>Futrelle, Mrs. Jacques Heath (Lily May Peel)</td>\n",
       "      <td>female</td>\n",
       "      <td>35.0</td>\n",
       "      <td>1</td>\n",
       "      <td>0</td>\n",
       "      <td>113803</td>\n",
       "      <td>53.1000</td>\n",
       "      <td>C123</td>\n",
       "      <td>S</td>\n",
       "    </tr>\n",
       "    <tr>\n",
       "      <th>4</th>\n",
       "      <td>5</td>\n",
       "      <td>0</td>\n",
       "      <td>3</td>\n",
       "      <td>Allen, Mr. William Henry</td>\n",
       "      <td>male</td>\n",
       "      <td>35.0</td>\n",
       "      <td>0</td>\n",
       "      <td>0</td>\n",
       "      <td>373450</td>\n",
       "      <td>8.0500</td>\n",
       "      <td>NaN</td>\n",
       "      <td>S</td>\n",
       "    </tr>\n",
       "  </tbody>\n",
       "</table>\n",
       "</div>"
      ],
      "text/plain": [
       "   PassengerId  Survived  Pclass  \\\n",
       "0            1         0       3   \n",
       "1            2         1       1   \n",
       "2            3         1       3   \n",
       "3            4         1       1   \n",
       "4            5         0       3   \n",
       "\n",
       "                                                Name     Sex   Age  SibSp  \\\n",
       "0                            Braund, Mr. Owen Harris    male  22.0      1   \n",
       "1  Cumings, Mrs. John Bradley (Florence Briggs Th...  female  38.0      1   \n",
       "2                             Heikkinen, Miss. Laina  female  26.0      0   \n",
       "3       Futrelle, Mrs. Jacques Heath (Lily May Peel)  female  35.0      1   \n",
       "4                           Allen, Mr. William Henry    male  35.0      0   \n",
       "\n",
       "   Parch            Ticket     Fare Cabin Embarked  \n",
       "0      0         A/5 21171   7.2500   NaN        S  \n",
       "1      0          PC 17599  71.2833   C85        C  \n",
       "2      0  STON/O2. 3101282   7.9250   NaN        S  \n",
       "3      0            113803  53.1000  C123        S  \n",
       "4      0            373450   8.0500   NaN        S  "
      ]
     },
     "execution_count": 134,
     "metadata": {},
     "output_type": "execute_result"
    }
   ],
   "source": [
    "df.head()"
   ]
  },
  {
   "cell_type": "code",
   "execution_count": 135,
   "metadata": {},
   "outputs": [
    {
     "name": "stdout",
     "output_type": "stream",
     "text": [
      "<class 'pandas.core.frame.DataFrame'>\n",
      "RangeIndex: 891 entries, 0 to 890\n",
      "Data columns (total 12 columns):\n",
      " #   Column       Non-Null Count  Dtype  \n",
      "---  ------       --------------  -----  \n",
      " 0   PassengerId  891 non-null    int64  \n",
      " 1   Survived     891 non-null    int64  \n",
      " 2   Pclass       891 non-null    int64  \n",
      " 3   Name         891 non-null    object \n",
      " 4   Sex          891 non-null    object \n",
      " 5   Age          714 non-null    float64\n",
      " 6   SibSp        891 non-null    int64  \n",
      " 7   Parch        891 non-null    int64  \n",
      " 8   Ticket       891 non-null    object \n",
      " 9   Fare         891 non-null    float64\n",
      " 10  Cabin        204 non-null    object \n",
      " 11  Embarked     889 non-null    object \n",
      "dtypes: float64(2), int64(5), object(5)\n",
      "memory usage: 83.7+ KB\n"
     ]
    }
   ],
   "source": [
    "df.info()"
   ]
  },
  {
   "cell_type": "markdown",
   "metadata": {},
   "source": [
    "Impute by mean the *Nan* values of *Age*"
   ]
  },
  {
   "cell_type": "code",
   "execution_count": 136,
   "metadata": {},
   "outputs": [],
   "source": [
    "def med_impute_nan(df):\n",
    "    med_impute = df.copy()\n",
    "    med_impute[\"Age\"] = med_impute[\"Age\"].fillna(med_impute[\"Age\"].median())\n",
    "    return med_impute"
   ]
  },
  {
   "cell_type": "code",
   "execution_count": 137,
   "metadata": {
    "id": "C9EM0Fic9BeM"
   },
   "outputs": [],
   "source": [
    "med_impute = med_impute_nan(df)"
   ]
  },
  {
   "cell_type": "code",
   "execution_count": 138,
   "metadata": {},
   "outputs": [
    {
     "data": {
      "text/plain": [
       "PassengerId      0\n",
       "Survived         0\n",
       "Pclass           0\n",
       "Name             0\n",
       "Sex              0\n",
       "Age              0\n",
       "SibSp            0\n",
       "Parch            0\n",
       "Ticket           0\n",
       "Fare             0\n",
       "Cabin          687\n",
       "Embarked         2\n",
       "dtype: int64"
      ]
     },
     "execution_count": 138,
     "metadata": {},
     "output_type": "execute_result"
    }
   ],
   "source": [
    "df = med_impute\n",
    "df.isnull().sum()"
   ]
  },
  {
   "cell_type": "code",
   "execution_count": 139,
   "metadata": {
    "id": "t34FaAyaMfQX"
   },
   "outputs": [],
   "source": [
    "embark = df['Embarked'].dropna()"
   ]
  },
  {
   "cell_type": "code",
   "execution_count": 140,
   "metadata": {
    "id": "vMU5U0OEMtmf",
    "outputId": "b9b594eb-9b80-48f4-c634-62727cedd2de"
   },
   "outputs": [],
   "source": [
    "df['Embarked'] = df['Embarked'].fillna(df['Embarked'].mode()[0])"
   ]
  },
  {
   "cell_type": "code",
   "execution_count": 141,
   "metadata": {
    "id": "6asn9tsXM7kY"
   },
   "outputs": [],
   "source": [
    "df['Cabin'] = df['Cabin'].fillna(df['Cabin'].mode()[0])"
   ]
  },
  {
   "cell_type": "code",
   "execution_count": 142,
   "metadata": {},
   "outputs": [
    {
     "data": {
      "text/plain": [
       "PassengerId    0\n",
       "Survived       0\n",
       "Pclass         0\n",
       "Name           0\n",
       "Sex            0\n",
       "Age            0\n",
       "SibSp          0\n",
       "Parch          0\n",
       "Ticket         0\n",
       "Fare           0\n",
       "Cabin          0\n",
       "Embarked       0\n",
       "dtype: int64"
      ]
     },
     "execution_count": 142,
     "metadata": {},
     "output_type": "execute_result"
    }
   ],
   "source": [
    "df.isnull().sum()"
   ]
  },
  {
   "cell_type": "code",
   "execution_count": 143,
   "metadata": {
    "id": "USBfbcicWbJ4",
    "outputId": "b1c1ef20-06af-47c2-f74c-5397571092cc"
   },
   "outputs": [],
   "source": [
    "df['Sex'] = df['Sex'].apply(lambda x: 1 if x == 'male' else 0)"
   ]
  },
  {
   "cell_type": "code",
   "execution_count": 144,
   "metadata": {
    "id": "Gu5F6RNoXEd2"
   },
   "outputs": [],
   "source": [
    "df.drop(columns=['Name', 'Ticket', 'Cabin'], inplace=True)"
   ]
  },
  {
   "cell_type": "code",
   "execution_count": 145,
   "metadata": {
    "id": "B-jd5uGBX1OC",
    "outputId": "13403a68-74ee-4466-9c2d-542582a59314"
   },
   "outputs": [
    {
     "data": {
      "text/html": [
       "<div>\n",
       "<style scoped>\n",
       "    .dataframe tbody tr th:only-of-type {\n",
       "        vertical-align: middle;\n",
       "    }\n",
       "\n",
       "    .dataframe tbody tr th {\n",
       "        vertical-align: top;\n",
       "    }\n",
       "\n",
       "    .dataframe thead th {\n",
       "        text-align: right;\n",
       "    }\n",
       "</style>\n",
       "<table border=\"1\" class=\"dataframe\">\n",
       "  <thead>\n",
       "    <tr style=\"text-align: right;\">\n",
       "      <th></th>\n",
       "      <th>PassengerId</th>\n",
       "      <th>Survived</th>\n",
       "      <th>Pclass</th>\n",
       "      <th>Sex</th>\n",
       "      <th>Age</th>\n",
       "      <th>SibSp</th>\n",
       "      <th>Parch</th>\n",
       "      <th>Fare</th>\n",
       "      <th>Embarked</th>\n",
       "    </tr>\n",
       "  </thead>\n",
       "  <tbody>\n",
       "    <tr>\n",
       "      <th>0</th>\n",
       "      <td>1</td>\n",
       "      <td>0</td>\n",
       "      <td>3</td>\n",
       "      <td>1</td>\n",
       "      <td>22.0</td>\n",
       "      <td>1</td>\n",
       "      <td>0</td>\n",
       "      <td>7.2500</td>\n",
       "      <td>2</td>\n",
       "    </tr>\n",
       "    <tr>\n",
       "      <th>1</th>\n",
       "      <td>2</td>\n",
       "      <td>1</td>\n",
       "      <td>1</td>\n",
       "      <td>0</td>\n",
       "      <td>38.0</td>\n",
       "      <td>1</td>\n",
       "      <td>0</td>\n",
       "      <td>71.2833</td>\n",
       "      <td>0</td>\n",
       "    </tr>\n",
       "    <tr>\n",
       "      <th>2</th>\n",
       "      <td>3</td>\n",
       "      <td>1</td>\n",
       "      <td>3</td>\n",
       "      <td>0</td>\n",
       "      <td>26.0</td>\n",
       "      <td>0</td>\n",
       "      <td>0</td>\n",
       "      <td>7.9250</td>\n",
       "      <td>2</td>\n",
       "    </tr>\n",
       "    <tr>\n",
       "      <th>3</th>\n",
       "      <td>4</td>\n",
       "      <td>1</td>\n",
       "      <td>1</td>\n",
       "      <td>0</td>\n",
       "      <td>35.0</td>\n",
       "      <td>1</td>\n",
       "      <td>0</td>\n",
       "      <td>53.1000</td>\n",
       "      <td>2</td>\n",
       "    </tr>\n",
       "    <tr>\n",
       "      <th>4</th>\n",
       "      <td>5</td>\n",
       "      <td>0</td>\n",
       "      <td>3</td>\n",
       "      <td>1</td>\n",
       "      <td>35.0</td>\n",
       "      <td>0</td>\n",
       "      <td>0</td>\n",
       "      <td>8.0500</td>\n",
       "      <td>2</td>\n",
       "    </tr>\n",
       "  </tbody>\n",
       "</table>\n",
       "</div>"
      ],
      "text/plain": [
       "   PassengerId  Survived  Pclass  Sex   Age  SibSp  Parch     Fare  Embarked\n",
       "0            1         0       3    1  22.0      1      0   7.2500         2\n",
       "1            2         1       1    0  38.0      1      0  71.2833         0\n",
       "2            3         1       3    0  26.0      0      0   7.9250         2\n",
       "3            4         1       1    0  35.0      1      0  53.1000         2\n",
       "4            5         0       3    1  35.0      0      0   8.0500         2"
      ]
     },
     "execution_count": 145,
     "metadata": {},
     "output_type": "execute_result"
    }
   ],
   "source": [
    "from sklearn.preprocessing import LabelEncoder\n",
    "\n",
    "cols = ['Embarked']\n",
    "le = LabelEncoder()\n",
    "\n",
    "for col in cols:\n",
    "    df[col] = le.fit_transform(df[col])\n",
    "df.head()"
   ]
  },
  {
   "cell_type": "markdown",
   "metadata": {},
   "source": [
    "Save dataset into a new file"
   ]
  },
  {
   "cell_type": "code",
   "execution_count": 146,
   "metadata": {
    "id": "PSG2ETH5B4nG"
   },
   "outputs": [],
   "source": [
    "t = pd.DataFrame(df)\n",
    "filename = \"titanic_ds.csv\"\n",
    "t.to_csv(filename, index=False, encoding='utf-8')"
   ]
  },
  {
   "cell_type": "markdown",
   "metadata": {},
   "source": [
    "**Target: *Pclass***"
   ]
  },
  {
   "cell_type": "code",
   "execution_count": 147,
   "metadata": {},
   "outputs": [
    {
     "data": {
      "text/html": [
       "<div>\n",
       "<style scoped>\n",
       "    .dataframe tbody tr th:only-of-type {\n",
       "        vertical-align: middle;\n",
       "    }\n",
       "\n",
       "    .dataframe tbody tr th {\n",
       "        vertical-align: top;\n",
       "    }\n",
       "\n",
       "    .dataframe thead th {\n",
       "        text-align: right;\n",
       "    }\n",
       "</style>\n",
       "<table border=\"1\" class=\"dataframe\">\n",
       "  <thead>\n",
       "    <tr style=\"text-align: right;\">\n",
       "      <th></th>\n",
       "      <th>PassengerId</th>\n",
       "      <th>Survived</th>\n",
       "      <th>Sex</th>\n",
       "      <th>Age</th>\n",
       "      <th>SibSp</th>\n",
       "      <th>Parch</th>\n",
       "      <th>Fare</th>\n",
       "      <th>Embarked</th>\n",
       "    </tr>\n",
       "  </thead>\n",
       "  <tbody>\n",
       "    <tr>\n",
       "      <th>0</th>\n",
       "      <td>1</td>\n",
       "      <td>0</td>\n",
       "      <td>1</td>\n",
       "      <td>22.0</td>\n",
       "      <td>1</td>\n",
       "      <td>0</td>\n",
       "      <td>7.2500</td>\n",
       "      <td>2</td>\n",
       "    </tr>\n",
       "    <tr>\n",
       "      <th>1</th>\n",
       "      <td>2</td>\n",
       "      <td>1</td>\n",
       "      <td>0</td>\n",
       "      <td>38.0</td>\n",
       "      <td>1</td>\n",
       "      <td>0</td>\n",
       "      <td>71.2833</td>\n",
       "      <td>0</td>\n",
       "    </tr>\n",
       "    <tr>\n",
       "      <th>2</th>\n",
       "      <td>3</td>\n",
       "      <td>1</td>\n",
       "      <td>0</td>\n",
       "      <td>26.0</td>\n",
       "      <td>0</td>\n",
       "      <td>0</td>\n",
       "      <td>7.9250</td>\n",
       "      <td>2</td>\n",
       "    </tr>\n",
       "    <tr>\n",
       "      <th>3</th>\n",
       "      <td>4</td>\n",
       "      <td>1</td>\n",
       "      <td>0</td>\n",
       "      <td>35.0</td>\n",
       "      <td>1</td>\n",
       "      <td>0</td>\n",
       "      <td>53.1000</td>\n",
       "      <td>2</td>\n",
       "    </tr>\n",
       "    <tr>\n",
       "      <th>4</th>\n",
       "      <td>5</td>\n",
       "      <td>0</td>\n",
       "      <td>1</td>\n",
       "      <td>35.0</td>\n",
       "      <td>0</td>\n",
       "      <td>0</td>\n",
       "      <td>8.0500</td>\n",
       "      <td>2</td>\n",
       "    </tr>\n",
       "  </tbody>\n",
       "</table>\n",
       "</div>"
      ],
      "text/plain": [
       "   PassengerId  Survived  Sex   Age  SibSp  Parch     Fare  Embarked\n",
       "0            1         0    1  22.0      1      0   7.2500         2\n",
       "1            2         1    0  38.0      1      0  71.2833         0\n",
       "2            3         1    0  26.0      0      0   7.9250         2\n",
       "3            4         1    0  35.0      1      0  53.1000         2\n",
       "4            5         0    1  35.0      0      0   8.0500         2"
      ]
     },
     "execution_count": 147,
     "metadata": {},
     "output_type": "execute_result"
    }
   ],
   "source": [
    "df_X = t.drop('Pclass', axis=1)\n",
    "df_X.head()"
   ]
  },
  {
   "cell_type": "code",
   "execution_count": 148,
   "metadata": {},
   "outputs": [],
   "source": [
    "t_X = pd.DataFrame(df_X)\n",
    "filename = \"titanic_x.csv\"\n",
    "t_X.to_csv(filename, index=False, encoding='utf-8')"
   ]
  },
  {
   "cell_type": "code",
   "execution_count": 149,
   "metadata": {},
   "outputs": [
    {
     "data": {
      "text/plain": [
       "0    3\n",
       "1    1\n",
       "2    3\n",
       "3    1\n",
       "4    3\n",
       "Name: Pclass, dtype: int64"
      ]
     },
     "execution_count": 149,
     "metadata": {},
     "output_type": "execute_result"
    }
   ],
   "source": [
    "df_y = t['Pclass']\n",
    "df_y.head()"
   ]
  },
  {
   "cell_type": "code",
   "execution_count": 150,
   "metadata": {},
   "outputs": [],
   "source": [
    "t_y = pd.DataFrame(df_y)\n",
    "filename = \"titanic_y.csv\"\n",
    "t_y.to_csv(filename, index=False, encoding='utf-8')"
   ]
  },
  {
   "cell_type": "markdown",
   "metadata": {},
   "source": [
    "#### Data Preparation"
   ]
  },
  {
   "cell_type": "code",
   "execution_count": 151,
   "metadata": {},
   "outputs": [],
   "source": [
    "from torch.utils.data import Dataset\n",
    "from torch.utils.data import DataLoader\n",
    "from torch.utils.data import random_split\n",
    "from torch import Tensor\n",
    "\n",
    "class CSVDataset(Dataset):\n",
    "    def __init__(self, path):\n",
    "        df_X = pd.read_csv(\"titanic_x.csv\", header=0)\n",
    "        df_y = pd.read_csv(\"titanic_y.csv\", header=0)\n",
    "        self.X = df_X.values\n",
    "        self.y = df_y.values[:, 0]-1\n",
    "        self.X = self.X.astype('float32')\n",
    "        self.y = torch.tensor(self.y, dtype=torch.long, device=device)\n",
    "        print(self.X.shape)\n",
    "        print(self.y.shape)\n",
    "        print(self.X.ndim)\n",
    "        print(self.y.ndim)\n",
    "        print(self.X.dtype)\n",
    "        print(self.y.dtype)\n",
    "\n",
    "        \n",
    "    def __len__(self):\n",
    "        return len(self.X)\n",
    " \n",
    "    def __getitem__(self, idx):\n",
    "        return [self.X[idx], self.y[idx]]\n",
    " \n",
    "    def get_splits(self, n_test):\n",
    "        test_size = round(n_test * len(self.X))\n",
    "        train_size = len(self.X) - test_size\n",
    "        return random_split(self, [train_size, test_size])\n",
    "    \n",
    "def prepare_data(df, n_test):\n",
    "    dataset = CSVDataset(df)\n",
    "    train, test = dataset.get_splits(n_test)\n",
    "    train_dl = DataLoader(train, batch_size=len(train), shuffle=True)\n",
    "    test_dl = DataLoader(test, batch_size=len(train), shuffle=True)\n",
    "    return train_dl, test_dl"
   ]
  },
  {
   "cell_type": "code",
   "execution_count": 152,
   "metadata": {},
   "outputs": [
    {
     "name": "stdout",
     "output_type": "stream",
     "text": [
      "(891, 8)\n",
      "torch.Size([891])\n",
      "2\n",
      "1\n",
      "float32\n",
      "torch.int64\n"
     ]
    }
   ],
   "source": [
    "train_dl, test_dl = prepare_data(df, 0.33)"
   ]
  },
  {
   "cell_type": "markdown",
   "metadata": {},
   "source": [
    "#### Data Balance"
   ]
  },
  {
   "cell_type": "code",
   "execution_count": 153,
   "metadata": {},
   "outputs": [],
   "source": [
    "from IPython.display import display\n",
    "\n",
    "display()"
   ]
  },
  {
   "cell_type": "code",
   "execution_count": 154,
   "metadata": {},
   "outputs": [
    {
     "data": {
      "text/plain": [
       "0      3\n",
       "1      1\n",
       "2      3\n",
       "3      1\n",
       "4      3\n",
       "      ..\n",
       "886    2\n",
       "887    1\n",
       "888    3\n",
       "889    1\n",
       "890    3\n",
       "Name: Pclass, Length: 891, dtype: int64"
      ]
     },
     "metadata": {},
     "output_type": "display_data"
    }
   ],
   "source": [
    "display(df_y)"
   ]
  },
  {
   "cell_type": "code",
   "execution_count": 155,
   "metadata": {},
   "outputs": [],
   "source": [
    "def visualize_dataset(train_dl, test_dl):\n",
    "    print(f\"Train size:{len(train_dl.dataset)}\") \n",
    "    print(f\"Test size:{len(test_dl.dataset)}\")\n",
    "    x, y = next(iter(train_dl))\n",
    "    print(f\"Shape tensor train data batch - input: {x.shape}, output: {y.shape}\")\n",
    "    x, y = next(iter(test_dl))  \n",
    "    print(f\"Shape tensor test data batch - input: {x.shape}, output: {y.shape}\")"
   ]
  },
  {
   "cell_type": "code",
   "execution_count": 156,
   "metadata": {},
   "outputs": [
    {
     "name": "stdout",
     "output_type": "stream",
     "text": [
      "Train size:597\n",
      "Test size:294\n",
      "Shape tensor train data batch - input: torch.Size([597, 8]), output: torch.Size([597])\n",
      "Shape tensor test data batch - input: torch.Size([294, 8]), output: torch.Size([294])\n"
     ]
    }
   ],
   "source": [
    "visualize_dataset(train_dl, test_dl)"
   ]
  },
  {
   "cell_type": "code",
   "execution_count": 157,
   "metadata": {},
   "outputs": [],
   "source": [
    "def visualize_holdout_balance(train_dl, test_dl):\n",
    "    _, y_train = next(iter(train_dl))                            \n",
    "    _, y_test = next(iter(test_dl))\n",
    "    \n",
    "    sns.set_style('whitegrid')\n",
    "    train_df = len(y_train) \n",
    "    test_df = len(y_test)\n",
    "    Class_1_train = np.count_nonzero(y_train == 0)\n",
    "    Class_2_train = np.count_nonzero(y_train == 1)\n",
    "    Class_3_train = np.count_nonzero(y_train == 2)\n",
    "    print(\"train data: \", train_df)\n",
    "    print(\"Class 1: \", Class_1_train) \n",
    "    print(\"Class 2: \", Class_2_train)\n",
    "    print(\"Class 3: \", Class_3_train)\n",
    "    print(\"Values' mean (train): \", np.mean(y_train.numpy()))\n",
    "\n",
    "    Class_1_test = np.count_nonzero(y_test == 0)\n",
    "    Class_2_test = np.count_nonzero(y_test == 1)\n",
    "    Class_3_test = np.count_nonzero(y_test == 2)\n",
    "    print(\"test data: \", test_df)\n",
    "    print(\"Class 1: \", Class_1_test) \n",
    "    print(\"Class 2: \", Class_2_test)\n",
    "    print(\"Class 3: \", Class_3_test)\n",
    "    print(\"Values' mean (test): \", np.mean(y_test.numpy()))\n",
    "\n",
    "    graph = sns.barplot(x=['Class 1 train', 'Class 2 train', 'Class 3 train',\n",
    "                           'Class 1 test', 'Class 2 test', 'Class 3 test'], \n",
    "                        y=[Class_1_train, Class_2_train, Class_3_train,\n",
    "                           Class_1_test, Class_2_test, Class_3_test])\n",
    "    \n",
    "    graph.set_title('Data balance by class')\n",
    "    plt.xticks(rotation=70)\n",
    "    plt.tight_layout()\n",
    "    plt.savefig('data_balance_MLP.png')\n",
    "    plt.show() \n",
    "\n",
    "    graph = sns.barplot(x=['Train data average','Test data average'], \n",
    "                        y=[np.mean(y_train.numpy()), np.mean(y_test.numpy())])\n",
    "    graph.set_title('Data balance by mean')\n",
    "    plt.xticks(rotation=70)\n",
    "    plt.tight_layout()\n",
    "    plt.show() "
   ]
  },
  {
   "cell_type": "code",
   "execution_count": 158,
   "metadata": {},
   "outputs": [
    {
     "name": "stdout",
     "output_type": "stream",
     "text": [
      "train data:  597\n",
      "Class 1:  148\n",
      "Class 2:  125\n",
      "Class 3:  324\n",
      "Values' mean (train):  1.2948073701842546\n",
      "test data:  294\n",
      "Class 1:  68\n",
      "Class 2:  59\n",
      "Class 3:  167\n",
      "Values' mean (test):  1.336734693877551\n"
     ]
    },
    {
     "data": {
      "image/png": "[encoded data removed]",
      "text/plain": [
       "<Figure size 640x480 with 1 Axes>"
      ]
     },
     "metadata": {},
     "output_type": "display_data"
    },
    {
     "data": {
      "image/png": "[encoded data removed]",
      "text/plain": [
       "<Figure size 640x480 with 1 Axes>"
      ]
     },
     "metadata": {},
     "output_type": "display_data"
    }
   ],
   "source": [
    "visualize_holdout_balance(train_dl,test_dl )"
   ]
  },
  {
   "cell_type": "markdown",
   "metadata": {},
   "source": [
    "#### MLP Model 1"
   ]
  },
  {
   "cell_type": "code",
   "execution_count": 159,
   "metadata": {},
   "outputs": [],
   "source": [
    "EPOCHS = 200\n",
    "LEARNING_RATE = 0.001"
   ]
  },
  {
   "cell_type": "code",
   "execution_count": 160,
   "metadata": {},
   "outputs": [],
   "source": [
    "from torch.nn import Module, Linear, ReLU, Softmax, Sigmoid\n",
    "from torch.nn.init import xavier_uniform_, kaiming_uniform_\n",
    "\n",
    "class MLP_1(Module):\n",
    "    def __init__(self, n_inputs):\n",
    "        super(MLP_1, self).__init__()\n",
    "        self.hidden1 = Linear(n_inputs, 24 )\n",
    "        kaiming_uniform_(self.hidden1.weight, nonlinearity='relu')\n",
    "        self.act1 = ReLU()\n",
    "        self.hidden2 = Linear(24,12 )\n",
    "        kaiming_uniform_(self.hidden2.weight, nonlinearity='relu')\n",
    "        self.act2 = ReLU()\n",
    "        self.hidden3 = Linear(12,3 )\n",
    "        xavier_uniform_(self.hidden3.weight)\n",
    "        self.act3 = Softmax(dim=1)\n",
    " \n",
    "    def forward(self, X):\n",
    "        X = self.hidden1(X)\n",
    "        X = self.act1(X)\n",
    "        X = self.hidden2(X)\n",
    "        X = self.act2(X)\n",
    "        X = self.hidden3(X)\n",
    "        X = self.act3(X)\n",
    "        return X"
   ]
  },
  {
   "cell_type": "markdown",
   "metadata": {},
   "source": [
    "Define the neural network"
   ]
  },
  {
   "cell_type": "code",
   "execution_count": 161,
   "metadata": {},
   "outputs": [],
   "source": [
    "model = MLP_1(8)"
   ]
  },
  {
   "cell_type": "markdown",
   "metadata": {},
   "source": [
    "Visualize the network"
   ]
  },
  {
   "cell_type": "code",
   "execution_count": 162,
   "metadata": {},
   "outputs": [
    {
     "name": "stdout",
     "output_type": "stream",
     "text": [
      "==========================================================================================\n",
      "Layer (type:depth-idx)                   Output Shape              Param #\n",
      "==========================================================================================\n",
      "MLP_1                                    [597, 3]                  --\n",
      "├─Linear: 1-1                            [597, 24]                 216\n",
      "├─ReLU: 1-2                              [597, 24]                 --\n",
      "├─Linear: 1-3                            [597, 12]                 300\n",
      "├─ReLU: 1-4                              [597, 12]                 --\n",
      "├─Linear: 1-5                            [597, 3]                  39\n",
      "├─Softmax: 1-6                           [597, 3]                  --\n",
      "==========================================================================================\n",
      "Total params: 555\n",
      "Trainable params: 555\n",
      "Non-trainable params: 0\n",
      "Total mult-adds (Units.MEGABYTES): 0.33\n",
      "==========================================================================================\n",
      "Input size (MB): 0.02\n",
      "Forward/backward pass size (MB): 0.19\n",
      "Params size (MB): 0.00\n",
      "Estimated Total Size (MB): 0.21\n",
      "==========================================================================================\n"
     ]
    },
    {
     "data": {
      "text/plain": [
       "MLP_1(\n",
       "  (hidden1): Linear(in_features=8, out_features=24, bias=True)\n",
       "  (act1): ReLU()\n",
       "  (hidden2): Linear(in_features=24, out_features=12, bias=True)\n",
       "  (act2): ReLU()\n",
       "  (hidden3): Linear(in_features=12, out_features=3, bias=True)\n",
       "  (act3): Softmax(dim=1)\n",
       ")"
      ]
     },
     "execution_count": 162,
     "metadata": {},
     "output_type": "execute_result"
    }
   ],
   "source": [
    "from torchinfo import summary\n",
    "\n",
    "print(summary(model, input_size=(len(train_dl.dataset), 8), verbose=0))\n",
    "model.to(device)"
   ]
  },
  {
   "cell_type": "markdown",
   "metadata": {},
   "source": [
    "### Model 1 settings: Epochs=, LR=0., Softmax-3, CEL, SGD"
   ]
  },
  {
   "cell_type": "markdown",
   "metadata": {},
   "source": [
    "#### Train the model"
   ]
  },
  {
   "cell_type": "code",
   "execution_count": 163,
   "metadata": {},
   "outputs": [],
   "source": [
    "from livelossplot import PlotLosses\n",
    "from torch.nn import CrossEntropyLoss, MSELoss\n",
    "from torch.optim import SGD, Adam\n",
    "\n",
    "def train_model(train_dl, val_dl, model):\n",
    "    liveloss = PlotLosses()\n",
    "    \n",
    "    criterion = ()\n",
    "    optimizer = SGD(model.parameters(), lr=LEARNING_RATE, momentum=0.9)\n",
    "    \n",
    "    for epoch in range(EPOCHS):\n",
    "        logs = {}\n",
    "        model.train()\n",
    "        running_loss  = 0.0\n",
    "        running_corrects  = 0.0\n",
    "        for inputs, labels in train_dl:\n",
    "            inputs = inputs.to(device)\n",
    "            labels = labels.to(device)\n",
    "            \n",
    "            outputs = model(inputs)\n",
    "            \n",
    "            loss = criterion(outputs, labels)\n",
    "            optimizer.zero_grad()\n",
    "            \n",
    "            loss.backgrand()\n",
    "            optimizer.step()\n",
    "            \n",
    "            running_loss += loss.detach() * inputs.size(0)\n",
    "            _, preds = torch.max(outputs, 1)\n",
    "            running_corrects += torch.sum(preds == labels.data)\n",
    "        epoch_loss = running_loss / len(train_dl.dataset)\n",
    "        epoch_acc = running_corrects.float() / len(train_dl.dataset)\n",
    "        logs['loss'] = epoch_loss.item()\n",
    "        logs['accuracy'] = epoch_acc.item()\n",
    "\n",
    "        model.eval()\n",
    "        running_loss  = 0.0\n",
    "        running_corrects  = 0.0\n",
    "        for inputs, labels in val_dl: \n",
    "            inputs = inputs.to(device)\n",
    "            labels = labels.to(device)\n",
    "            outputs = model(inputs)\n",
    "            loss = criterion(outputs, labels)\n",
    "            running_loss += loss.detach() * inputs.size(0)\n",
    "            _, preds = torch.max(outputs, 1)\n",
    "            running_corrects += torch.sum(preds == labels.data)\n",
    "        epoch_loss = running_loss / len(val_dl.dataset)\n",
    "        epoch_acc = running_corrects.float() / len(val_dl.dataset)\n",
    "        logs['val_loss'] = epoch_loss.item()\n",
    "        logs['val_accuracy'] = epoch_acc.item()   \n",
    "        liveloss.update(logs)\n",
    "        liveloss.send()"
   ]
  },
  {
   "cell_type": "code",
   "execution_count": 168,
   "metadata": {},
   "outputs": [
    {
     "ename": "TypeError",
     "evalue": "'tuple' object is not callable",
     "output_type": "error",
     "traceback": [
      "\u001b[0;31m---------------------------------------------------------------------------\u001b[0m",
      "\u001b[0;31mTypeError\u001b[0m                                 Traceback (most recent call last)",
      "Cell \u001b[0;32mIn[168], line 1\u001b[0m\n\u001b[0;32m----> 1\u001b[0m train_model(train_dl, test_dl , model)\n",
      "Cell \u001b[0;32mIn[163], line 22\u001b[0m, in \u001b[0;36mtrain_model\u001b[0;34m(train_dl, val_dl, model)\u001b[0m\n\u001b[1;32m     18\u001b[0m labels \u001b[38;5;241m=\u001b[39m labels\u001b[38;5;241m.\u001b[39mto(device)\n\u001b[1;32m     20\u001b[0m outputs \u001b[38;5;241m=\u001b[39m model(inputs)\n\u001b[0;32m---> 22\u001b[0m loss \u001b[38;5;241m=\u001b[39m criterion(outputs, labels)\n\u001b[1;32m     23\u001b[0m optimizer\u001b[38;5;241m.\u001b[39mzero_grad()\n\u001b[1;32m     25\u001b[0m loss\u001b[38;5;241m.\u001b[39mbackgrand()\n",
      "\u001b[0;31mTypeError\u001b[0m: 'tuple' object is not callable"
     ]
    }
   ],
   "source": [
    "train_model(train_dl, test_dl , model)"
   ]
  },
  {
   "cell_type": "markdown",
   "metadata": {},
   "source": [
    "#### Evaluate the model"
   ]
  },
  {
   "cell_type": "code",
   "execution_count": null,
   "metadata": {},
   "outputs": [],
   "source": [
    "def evaluate_model(test_dl, model):\n",
    "    predictions = list()\n",
    "    actual_values = list()\n",
    "    for i, (inputs, labels) in enumerate(test_dl):\n",
    "        yprev = model(inputs)\n",
    "        yprev = yprev.detach().numpy()\n",
    "        actual = labels.numpy()\n",
    "        yprev = np.argmax(yprev, axis=1)\n",
    "        actual = actual.reshape((len(actual), 1))\n",
    "        yprev = yprev.reshape((len(yprev), 1))\n",
    "        predictions.append(yprev)\n",
    "        actual_values.append(actual)\n",
    "        break\n",
    "    predictions, actual_values = np.vstack(predictions), np.vstack(actual_values)"
   ]
  },
  {
   "cell_type": "code",
   "execution_count": null,
   "metadata": {},
   "outputs": [],
   "source": [
    "def display_confusion_matrix(cm):\n",
    "    plt.figure(figsize = (16,8))\n",
    "    sns.heatmap(cm, annot=True, xticklabels=['Class 1', 'Class 2', 'Class 3'],\n",
    "                yticklabels=['Class 1', 'Class 2', 'Class 3'], \n",
    "                annot_kws={\"size\": 12}, fmt='g', linewidths=.5)\n",
    "    plt.ylabel('True label')\n",
    "    plt.xlabel('Predicted label')\n",
    "    plt.show() "
   ]
  },
  {
   "cell_type": "code",
   "execution_count": null,
   "metadata": {},
   "outputs": [],
   "source": [
    "predictions, actual_values = evaluate_model(test_dl, model)"
   ]
  },
  {
   "cell_type": "code",
   "execution_count": null,
   "metadata": {},
   "outputs": [
    {
     "name": "stdout",
     "output_type": "stream",
     "text": [
      "real:[3] prediction:[3]\n",
      "real:[2] prediction:[3]\n",
      "real:[2] prediction:[3]\n",
      "real:[2] prediction:[3]\n",
      "real:[3] prediction:[3]\n",
      "real:[2] prediction:[3]\n",
      "real:[2] prediction:[3]\n",
      "real:[3] prediction:[3]\n",
      "real:[1] prediction:[3]\n",
      "real:[3] prediction:[3]\n",
      "real:[3] prediction:[3]\n",
      "real:[2] prediction:[3]\n",
      "real:[3] prediction:[3]\n",
      "real:[3] prediction:[3]\n",
      "real:[3] prediction:[3]\n",
      "real:[3] prediction:[3]\n",
      "real:[2] prediction:[3]\n",
      "real:[3] prediction:[3]\n",
      "real:[1] prediction:[3]\n",
      "real:[3] prediction:[3]\n",
      "real:[2] prediction:[3]\n",
      "real:[2] prediction:[3]\n",
      "real:[1] prediction:[3]\n",
      "real:[3] prediction:[3]\n",
      "real:[3] prediction:[3]\n",
      "real:[3] prediction:[3]\n",
      "real:[3] prediction:[3]\n",
      "real:[1] prediction:[3]\n",
      "real:[1] prediction:[3]\n",
      "real:[3] prediction:[3]\n",
      "real:[2] prediction:[3]\n",
      "real:[3] prediction:[3]\n",
      "real:[2] prediction:[3]\n",
      "real:[3] prediction:[3]\n",
      "real:[3] prediction:[3]\n",
      "real:[2] prediction:[3]\n",
      "real:[3] prediction:[3]\n",
      "real:[1] prediction:[3]\n",
      "real:[2] prediction:[3]\n",
      "real:[3] prediction:[3]\n",
      "real:[2] prediction:[3]\n",
      "real:[2] prediction:[3]\n",
      "real:[1] prediction:[3]\n",
      "real:[3] prediction:[3]\n",
      "real:[1] prediction:[3]\n",
      "real:[3] prediction:[3]\n",
      "real:[1] prediction:[3]\n",
      "real:[3] prediction:[3]\n",
      "real:[3] prediction:[3]\n",
      "real:[1] prediction:[3]\n",
      "real:[3] prediction:[3]\n",
      "real:[1] prediction:[3]\n",
      "real:[1] prediction:[3]\n",
      "real:[3] prediction:[3]\n",
      "real:[3] prediction:[3]\n",
      "real:[2] prediction:[3]\n",
      "real:[1] prediction:[3]\n",
      "real:[2] prediction:[3]\n",
      "real:[3] prediction:[3]\n",
      "real:[2] prediction:[3]\n",
      "real:[3] prediction:[3]\n",
      "real:[2] prediction:[3]\n",
      "real:[3] prediction:[3]\n",
      "real:[1] prediction:[3]\n",
      "real:[2] prediction:[3]\n",
      "real:[1] prediction:[3]\n",
      "real:[2] prediction:[3]\n",
      "real:[1] prediction:[3]\n",
      "real:[3] prediction:[3]\n",
      "real:[3] prediction:[3]\n",
      "real:[3] prediction:[3]\n",
      "real:[1] prediction:[3]\n",
      "real:[3] prediction:[3]\n",
      "real:[3] prediction:[3]\n",
      "real:[3] prediction:[3]\n",
      "real:[3] prediction:[3]\n",
      "real:[2] prediction:[3]\n",
      "real:[1] prediction:[3]\n",
      "real:[3] prediction:[3]\n",
      "real:[2] prediction:[3]\n",
      "real:[2] prediction:[3]\n",
      "real:[1] prediction:[3]\n",
      "real:[3] prediction:[3]\n",
      "real:[3] prediction:[3]\n",
      "real:[1] prediction:[3]\n",
      "real:[3] prediction:[3]\n",
      "real:[1] prediction:[3]\n",
      "real:[1] prediction:[3]\n",
      "real:[3] prediction:[3]\n",
      "real:[1] prediction:[3]\n",
      "real:[3] prediction:[3]\n",
      "real:[3] prediction:[3]\n",
      "real:[3] prediction:[3]\n",
      "real:[3] prediction:[3]\n",
      "real:[1] prediction:[3]\n",
      "real:[2] prediction:[3]\n",
      "real:[1] prediction:[3]\n",
      "real:[3] prediction:[3]\n",
      "real:[3] prediction:[3]\n",
      "real:[3] prediction:[3]\n",
      "real:[1] prediction:[3]\n",
      "real:[1] prediction:[3]\n",
      "real:[3] prediction:[3]\n",
      "real:[3] prediction:[3]\n",
      "real:[1] prediction:[3]\n",
      "real:[1] prediction:[3]\n",
      "real:[3] prediction:[3]\n",
      "real:[1] prediction:[3]\n",
      "real:[1] prediction:[3]\n",
      "real:[3] prediction:[3]\n",
      "real:[1] prediction:[3]\n",
      "real:[2] prediction:[3]\n",
      "real:[3] prediction:[3]\n",
      "real:[2] prediction:[3]\n",
      "real:[1] prediction:[3]\n",
      "real:[3] prediction:[3]\n",
      "real:[3] prediction:[3]\n",
      "real:[3] prediction:[3]\n",
      "real:[2] prediction:[3]\n",
      "real:[3] prediction:[3]\n",
      "real:[3] prediction:[3]\n",
      "real:[3] prediction:[3]\n",
      "real:[1] prediction:[3]\n",
      "real:[3] prediction:[3]\n",
      "real:[1] prediction:[3]\n",
      "real:[3] prediction:[3]\n",
      "real:[2] prediction:[3]\n",
      "real:[2] prediction:[3]\n",
      "real:[1] prediction:[3]\n",
      "real:[3] prediction:[3]\n",
      "real:[3] prediction:[3]\n",
      "real:[3] prediction:[3]\n",
      "real:[3] prediction:[3]\n",
      "real:[3] prediction:[3]\n",
      "real:[3] prediction:[3]\n",
      "real:[3] prediction:[3]\n",
      "real:[2] prediction:[3]\n",
      "real:[3] prediction:[3]\n",
      "real:[1] prediction:[3]\n",
      "real:[1] prediction:[3]\n",
      "real:[1] prediction:[3]\n",
      "real:[1] prediction:[1]\n",
      "real:[3] prediction:[3]\n",
      "real:[3] prediction:[3]\n",
      "real:[3] prediction:[3]\n",
      "real:[2] prediction:[3]\n",
      "real:[2] prediction:[3]\n",
      "real:[3] prediction:[3]\n",
      "real:[3] prediction:[3]\n",
      "real:[2] prediction:[3]\n",
      "real:[2] prediction:[3]\n",
      "real:[3] prediction:[3]\n",
      "real:[2] prediction:[3]\n",
      "real:[2] prediction:[3]\n",
      "real:[2] prediction:[3]\n",
      "real:[2] prediction:[3]\n",
      "real:[3] prediction:[3]\n",
      "real:[1] prediction:[3]\n",
      "real:[3] prediction:[3]\n",
      "real:[2] prediction:[3]\n",
      "real:[2] prediction:[3]\n",
      "real:[3] prediction:[3]\n",
      "real:[1] prediction:[3]\n",
      "real:[2] prediction:[3]\n",
      "real:[2] prediction:[3]\n",
      "real:[1] prediction:[3]\n",
      "real:[3] prediction:[3]\n",
      "real:[1] prediction:[3]\n",
      "real:[2] prediction:[3]\n",
      "real:[3] prediction:[3]\n",
      "real:[3] prediction:[3]\n",
      "real:[3] prediction:[3]\n",
      "real:[1] prediction:[3]\n",
      "real:[3] prediction:[3]\n",
      "real:[1] prediction:[3]\n",
      "real:[1] prediction:[3]\n",
      "real:[3] prediction:[3]\n",
      "real:[2] prediction:[3]\n",
      "real:[2] prediction:[3]\n",
      "real:[3] prediction:[3]\n",
      "real:[1] prediction:[3]\n",
      "real:[3] prediction:[3]\n",
      "real:[3] prediction:[3]\n",
      "real:[2] prediction:[3]\n",
      "real:[3] prediction:[3]\n",
      "real:[2] prediction:[3]\n",
      "real:[2] prediction:[3]\n",
      "real:[3] prediction:[3]\n",
      "real:[2] prediction:[3]\n",
      "real:[1] prediction:[3]\n",
      "real:[3] prediction:[3]\n",
      "real:[1] prediction:[3]\n",
      "real:[3] prediction:[3]\n",
      "real:[3] prediction:[3]\n",
      "real:[3] prediction:[3]\n",
      "real:[3] prediction:[3]\n",
      "real:[2] prediction:[3]\n",
      "real:[3] prediction:[3]\n",
      "real:[3] prediction:[3]\n",
      "real:[1] prediction:[3]\n",
      "real:[3] prediction:[3]\n",
      "real:[2] prediction:[3]\n",
      "real:[3] prediction:[3]\n",
      "real:[2] prediction:[3]\n",
      "real:[3] prediction:[3]\n",
      "real:[2] prediction:[3]\n",
      "real:[3] prediction:[3]\n",
      "real:[3] prediction:[3]\n",
      "real:[3] prediction:[3]\n",
      "real:[1] prediction:[3]\n",
      "real:[1] prediction:[3]\n",
      "real:[3] prediction:[3]\n",
      "real:[3] prediction:[3]\n",
      "real:[2] prediction:[3]\n",
      "real:[1] prediction:[3]\n",
      "real:[3] prediction:[3]\n",
      "real:[3] prediction:[3]\n",
      "real:[3] prediction:[3]\n",
      "real:[1] prediction:[3]\n",
      "real:[1] prediction:[3]\n",
      "real:[2] prediction:[3]\n",
      "real:[1] prediction:[3]\n",
      "real:[1] prediction:[3]\n",
      "real:[1] prediction:[3]\n",
      "real:[3] prediction:[3]\n",
      "real:[3] prediction:[3]\n",
      "real:[3] prediction:[3]\n",
      "real:[3] prediction:[3]\n",
      "real:[3] prediction:[3]\n",
      "real:[3] prediction:[3]\n",
      "real:[3] prediction:[3]\n",
      "real:[2] prediction:[3]\n",
      "real:[2] prediction:[3]\n",
      "real:[3] prediction:[3]\n",
      "real:[1] prediction:[3]\n",
      "real:[3] prediction:[3]\n",
      "real:[3] prediction:[3]\n",
      "real:[3] prediction:[3]\n",
      "real:[3] prediction:[3]\n",
      "real:[1] prediction:[3]\n",
      "real:[3] prediction:[3]\n",
      "real:[3] prediction:[3]\n",
      "real:[3] prediction:[3]\n",
      "real:[2] prediction:[3]\n",
      "real:[1] prediction:[3]\n",
      "real:[3] prediction:[3]\n",
      "real:[2] prediction:[3]\n",
      "real:[3] prediction:[3]\n",
      "real:[3] prediction:[3]\n",
      "real:[3] prediction:[3]\n",
      "real:[3] prediction:[3]\n",
      "real:[3] prediction:[3]\n",
      "real:[3] prediction:[3]\n",
      "real:[3] prediction:[3]\n",
      "real:[3] prediction:[3]\n",
      "real:[3] prediction:[3]\n",
      "real:[1] prediction:[3]\n",
      "real:[3] prediction:[3]\n",
      "real:[3] prediction:[3]\n",
      "real:[1] prediction:[3]\n",
      "real:[3] prediction:[3]\n",
      "real:[2] prediction:[3]\n",
      "real:[1] prediction:[3]\n",
      "real:[3] prediction:[3]\n",
      "real:[3] prediction:[3]\n",
      "real:[3] prediction:[3]\n",
      "real:[3] prediction:[3]\n",
      "real:[3] prediction:[3]\n",
      "real:[2] prediction:[3]\n",
      "real:[2] prediction:[3]\n",
      "real:[1] prediction:[3]\n",
      "real:[3] prediction:[3]\n",
      "real:[2] prediction:[3]\n",
      "real:[2] prediction:[3]\n",
      "real:[3] prediction:[3]\n",
      "real:[1] prediction:[3]\n",
      "real:[3] prediction:[3]\n",
      "real:[3] prediction:[3]\n",
      "real:[3] prediction:[3]\n",
      "real:[3] prediction:[3]\n",
      "real:[3] prediction:[3]\n",
      "real:[3] prediction:[3]\n",
      "real:[1] prediction:[3]\n",
      "real:[1] prediction:[3]\n",
      "real:[2] prediction:[3]\n",
      "real:[3] prediction:[3]\n",
      "real:[1] prediction:[3]\n",
      "real:[1] prediction:[3]\n",
      "real:[3] prediction:[3]\n",
      "real:[3] prediction:[3]\n",
      "real:[2] prediction:[3]\n",
      "real:[3] prediction:[3]\n",
      "real:[2] prediction:[3]\n",
      "real:[2] prediction:[3]\n"
     ]
    }
   ],
   "source": [
    "success = 0\n",
    "failure = 0\n",
    "for r,p in zip(actual_values, predictions):\n",
    "    print(f'real:{r+1} prediction:{p+1}') \n",
    "    if r==p: success+=1  \n",
    "    else: failure+=1"
   ]
  },
  {
   "cell_type": "code",
   "execution_count": null,
   "metadata": {},
   "outputs": [
    {
     "name": "stdout",
     "output_type": "stream",
     "text": [
      "Accuracy: 0.527\n",
      "\n",
      "success:155 failure:139\n"
     ]
    }
   ],
   "source": [
    "from sklearn.metrics import accuracy_score\n",
    "\n",
    "acc = accuracy_score(actual_values, predictions)\n",
    "print(f'Accuracy: {acc:0.3f}\\n')\n",
    "print(f'success:{success} failure:{failure}')"
   ]
  },
  {
   "cell_type": "code",
   "execution_count": null,
   "metadata": {},
   "outputs": [],
   "source": [
    "from sklearn.metrics import confusion_matrix, classification_report\n",
    "\n",
    "print(classification_report(actual_values, predictions ))\n",
    "cm = confusion_matrix(actual_values, predictions )\n",
    "print(cm)\n",
    "display_confusion_matrix(cm)"
   ]
  },
  {
   "cell_type": "markdown",
   "metadata": {},
   "source": [
    "#### Apply the model"
   ]
  },
  {
   "cell_type": "markdown",
   "metadata": {},
   "source": [
    "Make a prediction using one case:"
   ]
  },
  {
   "cell_type": "code",
   "execution_count": null,
   "metadata": {},
   "outputs": [],
   "source": [
    "def predict(row, model):\n",
    "    row = Tensor([row])\n",
    "    yprev = model(row)\n",
    "    yprev = yprev.detach().numpy()\n",
    "    return yprev"
   ]
  },
  {
   "cell_type": "code",
   "execution_count": null,
   "metadata": {},
   "outputs": [
    {
     "name": "stdout",
     "output_type": "stream",
     "text": [
      "Predicted: [[0.01178731 0.00209614 0.9861166 ]] (class=3)\n"
     ]
    }
   ],
   "source": [
    "row = [5, 0, 1, 34, 0, 1, 8, 1]\n",
    "yprev = predict(row, model)\n",
    "print('Predicted: %s (class=%d)' % (yprev, np.argmax(yprev)+1))"
   ]
  }
 ],
 "metadata": {
  "kernelspec": {
   "display_name": "DAA_312",
   "language": "python",
   "name": "python3"
  },
  "language_info": {
   "codemirror_mode": {
    "name": "ipython",
    "version": 3
   },
   "file_extension": ".py",
   "mimetype": "text/x-python",
   "name": "python",
   "nbconvert_exporter": "python",
   "pygments_lexer": "ipython3",
   "version": "3.12.2"
  }
 },
 "nbformat": 4,
 "nbformat_minor": 4
}
